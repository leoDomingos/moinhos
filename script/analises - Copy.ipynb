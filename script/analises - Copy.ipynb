{
 "cells": [
  {
   "cell_type": "code",
   "execution_count": 2,
   "metadata": {},
   "outputs": [
    {
     "name": "stdout",
     "output_type": "stream",
     "text": [
      "Current directory: c:\\Users\\neora\\OneDrive\\Documentos\\GitHub\\operations-moinhos\\script\n",
      "Parent directory: C:\\Users\\neora\\OneDrive\\Documentos\\GitHub\\operations-moinhos\\input\\freshCSVs\n"
     ]
    }
   ],
   "source": [
    "import os\n",
    "import sys\n",
    "import json\n",
    "import pandas as pd\n",
    "from datetime import datetime\n",
    "import matplotlib.pyplot as plt\n",
    "from pathlib import Path\n",
    "import seaborn as sns\n",
    "\n",
    "\n",
    "# Get the current working directory\n",
    "script_dir = Path.cwd()\n",
    "\n",
    "# Navigate to the parent directory using \"../\"\n",
    "input_dir = script_dir / \"../input/freshCSVs/\"\n",
    "input_dir = input_dir.resolve()  # Resolve the path to an absolute path\n",
    "\n",
    "print(f\"Current directory: {script_dir}\")\n",
    "print(f\"Parent directory: {input_dir}\")"
   ]
  },
  {
   "cell_type": "markdown",
   "metadata": {},
   "source": [
    "*Indicadores:*\n",
    "\n",
    "A-Tempo médio entre a decisão e o início do tratamento\n",
    "\n",
    "B-Tempo médio entre diagnóstico e início do tratamento\n",
    "\n",
    "C-Tempo médio entre o resultado da biópsia e a infusão do PDL1\n",
    "\n",
    "D-Percentual de idas à emergência evitadas\n",
    "\n",
    "E-Taxa de satisfação dos pacientes inseridos no programa de navegação\n",
    "\n",
    "F-Taxa de evasão de pacientes inseridos no programa de navegação\n",
    "\n",
    "G-Percentual de pacientes engajados em relação às estratégias de navegação (excluindo os que tiverem as tags abaixo):\n",
    "Não aderem ao tratamento proposto (tag = Não adesão tto);\n",
    "Não aderem às orientações (tag = Não adesão estratégias Navegação);\n",
    "\n",
    "\n",
    "TODOs:\n",
    "\n",
    "* Botar coisa de mean no datecomparison()\n",
    "* Códigos para plotar as coisas\n",
    "* Verificar resultados\n",
    "\n",
    "\n",
    "***Fixes timeline:***\n",
    "\n",
    "1. ~~Figure out how to properly graph stuff~~\n",
    "2. Implement past values integration\n",
    "3. Implement this in BI"
   ]
  },
  {
   "cell_type": "code",
   "execution_count": 15,
   "metadata": {},
   "outputs": [],
   "source": [
    "# Reads Json data\n",
    "def read_json(json_dir):\n",
    "    \"\"\"\"\n",
    "    reads all json in a given directory and store them in a dataframe list\n",
    "    \"\"\"\n",
    "    json_filenames = [file.name for file in json_dir.glob('*.json')]\n",
    "\n",
    "    dataframes = []\n",
    "\n",
    "    # Reading all JSON files and storing them in 'dataframes'\n",
    "    for json_filename in json_filenames:\n",
    "\n",
    "        file_path = json_dir / json_filename\n",
    "        file_path = file_path.resolve()  # Getting all the list's jsons' paths\n",
    "        \n",
    "        print(f\"read_json(): Reading json data in {json_filename}\")\n",
    "\n",
    "\n",
    "        if file_path.exists():\n",
    "            with open(file_path, 'r') as file:\n",
    "                data = json.load(file)\n",
    "            try:\n",
    "                if 'content' in data:\n",
    "                    df = pd.json_normalize(data['content'])\n",
    "                else:\n",
    "                    df = pd.json_normalize(data)\n",
    "                dataframes.append(df)\n",
    "            except ValueError as e:\n",
    "                print(f\"read_json_data(): Failed to convert JSON into DataFrame: {e}\")\n",
    "        else:\n",
    "            print(f\"read_json_data(): File {file_path} not found.\")\n",
    "\n",
    "    # Why do we concat all dataframes together?\n",
    "    if dataframes:\n",
    "        return dataframes\n",
    "    \n",
    "    else:\n",
    "        print(\"read_json_data(): No valid json files found.\")\n",
    "        return None"
   ]
  },
  {
   "cell_type": "code",
   "execution_count": 16,
   "metadata": {},
   "outputs": [],
   "source": [
    "def searchPatientTag(patientsJson, search_tags):\n",
    "    \"\"\"\n",
    "    Given a patientsJson from patients.json, searches for patients with tags in the given list or string\n",
    "    \"\"\"\n",
    "\n",
    "    if type(search_tags) == str:\n",
    "        has_search_tag = patientsJson[\"tags\"].apply(\n",
    "        lambda tags: any(tag.get(\"content\") == search_tags for tag in tags)\n",
    "        )\n",
    "\n",
    "    if type(search_tags) == list:\n",
    "        has_search_tag = patientsJson[\"tags\"].apply(\n",
    "        lambda tags: any(tag.get(\"content\") in search_tags for tag in tags)\n",
    "        )\n",
    "\n",
    "    return has_search_tag"
   ]
  },
  {
   "cell_type": "code",
   "execution_count": 17,
   "metadata": {},
   "outputs": [],
   "source": [
    "def percentage_trues(series, precision):\n",
    "    \"\"\"\n",
    "    Given a boolean series, return their percentage, along with other values to make better graphs\n",
    "    \"\"\"\n",
    "    total_events = len(series)\n",
    "    total_target_events = sum(series)\n",
    "    percentage = round(total_target_events / total_events * 100, precision)\n",
    "    return (total_target_events, total_events,  str(percentage) + \" %\")"
   ]
  },
  {
   "cell_type": "code",
   "execution_count": 18,
   "metadata": {},
   "outputs": [
    {
     "name": "stdout",
     "output_type": "stream",
     "text": [
      "read_json_data(): No valid json files found.\n"
     ]
    },
    {
     "ename": "TypeError",
     "evalue": "'NoneType' object is not subscriptable",
     "output_type": "error",
     "traceback": [
      "\u001b[1;31m---------------------------------------------------------------------------\u001b[0m",
      "\u001b[1;31mTypeError\u001b[0m                                 Traceback (most recent call last)",
      "Cell \u001b[1;32mIn[18], line 3\u001b[0m\n\u001b[0;32m      1\u001b[0m \u001b[38;5;66;03m# Reading and storing the relevant JSONs\u001b[39;00m\n\u001b[0;32m      2\u001b[0m input_jsonFolder \u001b[38;5;241m=\u001b[39m read_json(input_dir)\n\u001b[1;32m----> 3\u001b[0m eventsJson \u001b[38;5;241m=\u001b[39m \u001b[43minput_jsonFolder\u001b[49m\u001b[43m[\u001b[49m\u001b[38;5;241;43m0\u001b[39;49m\u001b[43m]\u001b[49m\n\u001b[0;32m      4\u001b[0m informacoes_15Json \u001b[38;5;241m=\u001b[39m input_jsonFolder[\u001b[38;5;241m1\u001b[39m]\n\u001b[0;32m      5\u001b[0m patientsJson \u001b[38;5;241m=\u001b[39m input_jsonFolder[\u001b[38;5;241m2\u001b[39m]\n",
      "\u001b[1;31mTypeError\u001b[0m: 'NoneType' object is not subscriptable"
     ]
    }
   ],
   "source": [
    "# Reading and storing the relevant JSONs\n",
    "input_jsonFolder = read_json(input_dir)\n",
    "eventsJson = input_jsonFolder[0]\n",
    "informacoes_15Json = input_jsonFolder[1]\n",
    "patientsJson = input_jsonFolder[2]"
   ]
  },
  {
   "cell_type": "code",
   "execution_count": 474,
   "metadata": {},
   "outputs": [],
   "source": [
    "# Columns assumed for items A,B and C\n",
    "\n",
    "inicioTratamento = \"formData.inicio\"\n",
    "decisaoTratamento = \"formData.decisao\"\n",
    "diagnosticoBiopsia = \"formData.liberacao\"\n",
    "resultadoBiopsia = \"formData.testemolecular\"\n",
    "infusaoPDL = \"formData.infusao\""
   ]
  },
  {
   "cell_type": "markdown",
   "metadata": {},
   "source": [
    "Client wants us to make A, B and C items for pre and post KPI patients. So we'll have two dataframes, one for each.\n",
    "\n",
    "Let's start removing the pre-KPI patients from our jsons."
   ]
  },
  {
   "cell_type": "markdown",
   "metadata": {},
   "source": [
    "There are more patients in the `patients.json` than in `informacoes_15.json`, which leads to our 2 dataframes having patients that are not in `informacoes_15`.\n",
    "\n",
    "The chosen approach is to remove the patients in `informacoes_15` that are in the pre-KPI list, making 2 dataframes:\n",
    "\n",
    "* Pre KPI Dataframe: Patients in `informacoes_15.json` whose ID is in this list\n",
    "* Post KPI Dataframe: All remaining patients in `informacoes_15.json` (everyone whose ID is not in this list)\n",
    "\n",
    "Essentially, we are assuming ***all*** Pre-KPI patients will be tagged as such, as this approach includes in the post KPI Dataframes patients who are not in the pre-kpi list, but that doesn't necessarily mean that they are post-KPI.\n",
    "* We could also go for the 100% solution of Post KPI Dataframe = Patients whose id is in `patients_post_kpi_id`, but this would remove a lot of patients.\n",
    "\n",
    "For the rest of the notebook, the full list of patients was used (pre and post kpi). Maybe this needs to be changed?"
   ]
  },
  {
   "cell_type": "code",
   "execution_count": 475,
   "metadata": {},
   "outputs": [],
   "source": [
    "# Getting all patient's IDs who have the \"Pré KPI's tag\"\n",
    "is_pre_KPI = searchPatientTag(patientsJson, \"Pré KPI's\")\n",
    "patientsJson[\"is_pre_KPI\"] = is_pre_KPI\n",
    "\n",
    "\n",
    "\n",
    "# Getting the 2 dataframes with all id's we'll be considering for the entire notebook.\n",
    "patients_pre_kpi_id = patientsJson[patientsJson[\"is_pre_KPI\"]][\"id\"]\n",
    "patients_post_kpi_id = patientsJson[patientsJson[\"is_pre_KPI\"] == False][\"id\"]\n",
    "\n",
    "\n",
    "# Separating KPIs on informacoes_15json\n",
    "informacoes_15Json_preKPI = informacoes_15Json[informacoes_15Json['patient.id'].isin(patients_pre_kpi_id)].copy().reset_index()\n",
    "informacoes_15Json_postKPI = informacoes_15Json[~informacoes_15Json[\"patient.id\"].isin(patients_pre_kpi_id)].copy().reset_index()\n",
    "\n",
    "# Removing preKPI from events.json\n",
    "eventsJson_postKPI = eventsJson[eventsJson[\"patient.id\"].isin(patients_post_kpi_id)]\n",
    "\n",
    "# Removing preKPI from patients.json\n",
    "patientsJson_postKPI = patientsJson[patientsJson[\"id\"].isin(patients_post_kpi_id)]"
   ]
  },
  {
   "cell_type": "markdown",
   "metadata": {},
   "source": [
    "Now, let's make sure our data isn't being blurred by some patient with erroneus data.\n"
   ]
  },
  {
   "cell_type": "code",
   "execution_count": 476,
   "metadata": {},
   "outputs": [],
   "source": [
    "def timedelta_to_floatDays(timedelta):\n",
    "    if type(timedelta) == list:\n",
    "        rounded_days_list = []\n",
    "        for timedelta_object in timedelta:\n",
    "            rounded_timedelta = round(timedelta_object.days + (timedelta_object.seconds/3600)/24, 1)\n",
    "            rounded_days_list.append(rounded_timedelta)\n",
    "        return rounded_days_list\n",
    "    \n",
    "    else:\n",
    "        rounded_days = round(timedelta.days + (timedelta.seconds/3600)/24, 1)\n",
    "        return rounded_days\n",
    "    "
   ]
  },
  {
   "cell_type": "code",
   "execution_count": 477,
   "metadata": {},
   "outputs": [],
   "source": [
    "import numpy as np\n",
    "\n",
    "def dateComparison(dataframe, column1, column2):\n",
    "    \n",
    "    \"\"\"\n",
    "    column1 - column2, returns the mean in a float and all the outliers' rows in a list\n",
    "    \"\"\"\n",
    "\n",
    "    # Initial calculation, to get the mean\n",
    "    unfiltered_result = (pd.to_datetime(dataframe[column1]) - pd.to_datetime(dataframe[column2]))\n",
    "    \n",
    "    unfiltered_median = np.median((unfiltered_result).dropna().dt.days)\n",
    "    print(unfiltered_median)\n",
    "    outliers = []\n",
    "\n",
    "    # Removing outliers, storing their entire dataframe row on outliers list\n",
    "    index = 0\n",
    "    for value in unfiltered_result.dt.days:\n",
    "        if value >= unfiltered_median * 7 or value < 0:\n",
    "            erroneous_patient_id = dataframe.iloc[index][\"patient.fullName\"]\n",
    "            print(f\"dateComparison(): Filtering id {erroneous_patient_id} from the ({column1} - {column2}) comparison for erroneous value ({value}).\")\n",
    "            outliers.append(dataframe.iloc[index])\n",
    "            dataframe = dataframe.drop([index])\n",
    "        index += 1\n",
    "\n",
    "    # Recalculating it, now filtered\n",
    "    filtered_result = (pd.to_datetime(dataframe[column1]) - pd.to_datetime(dataframe[column2]))\n",
    "\n",
    "    if ((filtered_result.isna()).sum() / len(filtered_result) > 0.2):\n",
    "        print(f\"Warning! More than 20% of values in '{column1} - {column2}' were NaT.\\n\")\n",
    "\n",
    "    # Getting mean and turning it into float for better acc\n",
    "    filtered_mean = timedelta_to_floatDays(filtered_result.mean())\n",
    "\n",
    "\n",
    "    return filtered_mean, outliers"
   ]
  },
  {
   "cell_type": "code",
   "execution_count": 506,
   "metadata": {},
   "outputs": [
    {
     "data": {
      "text/plain": [
       "0         NaT\n",
       "1     -4 days\n",
       "2         NaT\n",
       "3         NaT\n",
       "4         NaT\n",
       "5         NaT\n",
       "6         NaT\n",
       "7         NaT\n",
       "8     77 days\n",
       "9         NaT\n",
       "10        NaT\n",
       "11   311 days\n",
       "12        NaT\n",
       "13        NaT\n",
       "14    17 days\n",
       "dtype: timedelta64[ns]"
      ]
     },
     "execution_count": 506,
     "metadata": {},
     "output_type": "execute_result"
    }
   ],
   "source": [
    "pd.to_datetime(informacoes_15Json_preKPI[infusaoPDL]) - pd.to_datetime(informacoes_15Json_preKPI[resultadoBiopsia])"
   ]
  },
  {
   "cell_type": "code",
   "execution_count": 478,
   "metadata": {},
   "outputs": [
    {
     "name": "stdout",
     "output_type": "stream",
     "text": [
      "10.0\n",
      "Warning! More than 20% of values in 'formData.inicio - formData.decisao' were NaT.\n",
      "\n",
      "30.0\n",
      "23.0\n",
      "dateComparison(): Filtering id Arnaldo Buede Sleimon from the (formData.inicio - formData.liberacao) comparison for erroneous value (-15.0).\n",
      "Warning! More than 20% of values in 'formData.inicio - formData.liberacao' were NaT.\n",
      "\n",
      "47.0\n",
      "dateComparison(): Filtering id Maria Alda Cabral Severino da Silva from the (formData.infusao - formData.testemolecular) comparison for erroneous value (-4.0).\n",
      "Warning! More than 20% of values in 'formData.infusao - formData.testemolecular' were NaT.\n",
      "\n",
      "20.0\n",
      "dateComparison(): Filtering id Cesar Laus Simas from the (formData.infusao - formData.testemolecular) comparison for erroneous value (398.0).\n",
      "Warning! More than 20% of values in 'formData.infusao - formData.testemolecular' were NaT.\n",
      "\n"
     ]
    }
   ],
   "source": [
    "# A, B and C\n",
    "\n",
    "a_postKPI, a_postKPI_outliers = dateComparison(informacoes_15Json_postKPI, inicioTratamento, decisaoTratamento)\n",
    "\n",
    "b_preKPI, b_preKPI_outliers = dateComparison(informacoes_15Json_preKPI, inicioTratamento, diagnosticoBiopsia)\n",
    "b_postKPI, b_postKPI_outliers = dateComparison(informacoes_15Json_postKPI, inicioTratamento, diagnosticoBiopsia)\n",
    "\n",
    "c_preKPI, c_preKPI_outliers = dateComparison(informacoes_15Json_preKPI, infusaoPDL, resultadoBiopsia)\n",
    "c_postKPI, c_postKPI_outliers = dateComparison(informacoes_15Json_postKPI, infusaoPDL, resultadoBiopsia)"
   ]
  },
  {
   "cell_type": "code",
   "execution_count": 479,
   "metadata": {},
   "outputs": [
    {
     "data": {
      "text/plain": [
       "[12.5, 37.4, 30.0, 135.0, 15.8]"
      ]
     },
     "execution_count": 479,
     "metadata": {},
     "output_type": "execute_result"
    }
   ],
   "source": [
    "[a_postKPI, b_preKPI, b_postKPI, c_preKPI, c_postKPI]"
   ]
  },
  {
   "cell_type": "code",
   "execution_count": 480,
   "metadata": {},
   "outputs": [
    {
     "data": {
      "text/plain": [
       "2"
      ]
     },
     "execution_count": 480,
     "metadata": {},
     "output_type": "execute_result"
    }
   ],
   "source": [
    "eventsJson_postKPI[\"formData.idaEmergencia\"].dropna().sum()"
   ]
  },
  {
   "cell_type": "code",
   "execution_count": 481,
   "metadata": {},
   "outputs": [
    {
     "data": {
      "text/html": [
       "<div>\n",
       "<style scoped>\n",
       "    .dataframe tbody tr th:only-of-type {\n",
       "        vertical-align: middle;\n",
       "    }\n",
       "\n",
       "    .dataframe tbody tr th {\n",
       "        vertical-align: top;\n",
       "    }\n",
       "\n",
       "    .dataframe thead th {\n",
       "        text-align: right;\n",
       "    }\n",
       "</style>\n",
       "<table border=\"1\" class=\"dataframe\">\n",
       "  <thead>\n",
       "    <tr style=\"text-align: right;\">\n",
       "      <th></th>\n",
       "      <th>id</th>\n",
       "      <th>name</th>\n",
       "      <th>categories</th>\n",
       "      <th>recommendations</th>\n",
       "      <th>targetDate</th>\n",
       "      <th>targetDateTemporary</th>\n",
       "      <th>originalTargetDate</th>\n",
       "      <th>effectiveDate</th>\n",
       "      <th>scheduledAt</th>\n",
       "      <th>closed</th>\n",
       "      <th>...</th>\n",
       "      <th>formData.Metastase</th>\n",
       "      <th>formData.EventNotesEventType17</th>\n",
       "      <th>formData.metastase</th>\n",
       "      <th>formData.obs</th>\n",
       "      <th>formData.diagnóstico</th>\n",
       "      <th>formData.diag</th>\n",
       "      <th>formData.idDeExemplo</th>\n",
       "      <th>formData.local</th>\n",
       "      <th>formData.Obs</th>\n",
       "      <th>formData.motivoIda</th>\n",
       "    </tr>\n",
       "  </thead>\n",
       "  <tbody>\n",
       "    <tr>\n",
       "      <th>11</th>\n",
       "      <td>120430</td>\n",
       "      <td>Contato de Emergência</td>\n",
       "      <td>[{'id': 11, 'name': 'Ida à Emergência'}]</td>\n",
       "      <td>[]</td>\n",
       "      <td>2024-12-03</td>\n",
       "      <td>False</td>\n",
       "      <td>2024-12-03</td>\n",
       "      <td>2024-12-03</td>\n",
       "      <td>2024-12-04</td>\n",
       "      <td>True</td>\n",
       "      <td>...</td>\n",
       "      <td>NaN</td>\n",
       "      <td>NaN</td>\n",
       "      <td>NaN</td>\n",
       "      <td>NaN</td>\n",
       "      <td>NaN</td>\n",
       "      <td>NaN</td>\n",
       "      <td>NaN</td>\n",
       "      <td>NaN</td>\n",
       "      <td>NaN</td>\n",
       "      <td>NaN</td>\n",
       "    </tr>\n",
       "    <tr>\n",
       "      <th>377</th>\n",
       "      <td>95504</td>\n",
       "      <td>Contato de Emergência</td>\n",
       "      <td>[{'id': 11, 'name': 'Ida à Emergência'}]</td>\n",
       "      <td>[]</td>\n",
       "      <td>2024-11-21</td>\n",
       "      <td>False</td>\n",
       "      <td>2024-11-21</td>\n",
       "      <td>2024-11-21</td>\n",
       "      <td>2024-11-26</td>\n",
       "      <td>True</td>\n",
       "      <td>...</td>\n",
       "      <td>NaN</td>\n",
       "      <td>NaN</td>\n",
       "      <td>NaN</td>\n",
       "      <td>NaN</td>\n",
       "      <td>NaN</td>\n",
       "      <td>NaN</td>\n",
       "      <td>NaN</td>\n",
       "      <td>NaN</td>\n",
       "      <td>NaN</td>\n",
       "      <td>b</td>\n",
       "    </tr>\n",
       "    <tr>\n",
       "      <th>612</th>\n",
       "      <td>87110</td>\n",
       "      <td>Contato de Emergência</td>\n",
       "      <td>[{'id': 11, 'name': 'Ida à Emergência'}]</td>\n",
       "      <td>[]</td>\n",
       "      <td>2024-10-25</td>\n",
       "      <td>False</td>\n",
       "      <td>2024-10-25</td>\n",
       "      <td>2024-10-25</td>\n",
       "      <td>2024-11-06</td>\n",
       "      <td>True</td>\n",
       "      <td>...</td>\n",
       "      <td>NaN</td>\n",
       "      <td>NaN</td>\n",
       "      <td>NaN</td>\n",
       "      <td>NaN</td>\n",
       "      <td>NaN</td>\n",
       "      <td>NaN</td>\n",
       "      <td>NaN</td>\n",
       "      <td>NaN</td>\n",
       "      <td>NaN</td>\n",
       "      <td>b</td>\n",
       "    </tr>\n",
       "    <tr>\n",
       "      <th>728</th>\n",
       "      <td>95522</td>\n",
       "      <td>Contato de Emergência</td>\n",
       "      <td>[{'id': 279, 'name': 'Contato de Emergência'}]</td>\n",
       "      <td>[]</td>\n",
       "      <td>2024-10-24</td>\n",
       "      <td>False</td>\n",
       "      <td>2024-10-24</td>\n",
       "      <td>2024-10-24</td>\n",
       "      <td>2024-11-26</td>\n",
       "      <td>True</td>\n",
       "      <td>...</td>\n",
       "      <td>NaN</td>\n",
       "      <td>NaN</td>\n",
       "      <td>NaN</td>\n",
       "      <td>NaN</td>\n",
       "      <td>NaN</td>\n",
       "      <td>NaN</td>\n",
       "      <td>NaN</td>\n",
       "      <td>NaN</td>\n",
       "      <td>NaN</td>\n",
       "      <td>b</td>\n",
       "    </tr>\n",
       "    <tr>\n",
       "      <th>764</th>\n",
       "      <td>120911</td>\n",
       "      <td>Contato de Emergência</td>\n",
       "      <td>[{'id': 11, 'name': 'Ida à Emergência'}]</td>\n",
       "      <td>[]</td>\n",
       "      <td>2024-12-03</td>\n",
       "      <td>False</td>\n",
       "      <td>2024-12-03</td>\n",
       "      <td>2024-12-03</td>\n",
       "      <td>2024-12-04</td>\n",
       "      <td>True</td>\n",
       "      <td>...</td>\n",
       "      <td>NaN</td>\n",
       "      <td>NaN</td>\n",
       "      <td>NaN</td>\n",
       "      <td>NaN</td>\n",
       "      <td>NaN</td>\n",
       "      <td>NaN</td>\n",
       "      <td>NaN</td>\n",
       "      <td>NaN</td>\n",
       "      <td>NaN</td>\n",
       "      <td>NaN</td>\n",
       "    </tr>\n",
       "    <tr>\n",
       "      <th>891</th>\n",
       "      <td>120762</td>\n",
       "      <td>Contato de Emergência</td>\n",
       "      <td>[{'id': 11, 'name': 'Ida à Emergência'}]</td>\n",
       "      <td>[]</td>\n",
       "      <td>2024-12-03</td>\n",
       "      <td>False</td>\n",
       "      <td>2024-12-03</td>\n",
       "      <td>2024-12-03</td>\n",
       "      <td>2024-12-04</td>\n",
       "      <td>True</td>\n",
       "      <td>...</td>\n",
       "      <td>NaN</td>\n",
       "      <td>NaN</td>\n",
       "      <td>NaN</td>\n",
       "      <td>NaN</td>\n",
       "      <td>NaN</td>\n",
       "      <td>NaN</td>\n",
       "      <td>NaN</td>\n",
       "      <td>NaN</td>\n",
       "      <td>NaN</td>\n",
       "      <td>b</td>\n",
       "    </tr>\n",
       "  </tbody>\n",
       "</table>\n",
       "<p>6 rows × 69 columns</p>\n",
       "</div>"
      ],
      "text/plain": [
       "         id                   name  \\\n",
       "11   120430  Contato de Emergência   \n",
       "377   95504  Contato de Emergência   \n",
       "612   87110  Contato de Emergência   \n",
       "728   95522  Contato de Emergência   \n",
       "764  120911  Contato de Emergência   \n",
       "891  120762  Contato de Emergência   \n",
       "\n",
       "                                         categories recommendations  \\\n",
       "11         [{'id': 11, 'name': 'Ida à Emergência'}]              []   \n",
       "377        [{'id': 11, 'name': 'Ida à Emergência'}]              []   \n",
       "612        [{'id': 11, 'name': 'Ida à Emergência'}]              []   \n",
       "728  [{'id': 279, 'name': 'Contato de Emergência'}]              []   \n",
       "764        [{'id': 11, 'name': 'Ida à Emergência'}]              []   \n",
       "891        [{'id': 11, 'name': 'Ida à Emergência'}]              []   \n",
       "\n",
       "     targetDate  targetDateTemporary originalTargetDate effectiveDate  \\\n",
       "11   2024-12-03                False         2024-12-03    2024-12-03   \n",
       "377  2024-11-21                False         2024-11-21    2024-11-21   \n",
       "612  2024-10-25                False         2024-10-25    2024-10-25   \n",
       "728  2024-10-24                False         2024-10-24    2024-10-24   \n",
       "764  2024-12-03                False         2024-12-03    2024-12-03   \n",
       "891  2024-12-03                False         2024-12-03    2024-12-03   \n",
       "\n",
       "    scheduledAt  closed  ... formData.Metastase  \\\n",
       "11   2024-12-04    True  ...                NaN   \n",
       "377  2024-11-26    True  ...                NaN   \n",
       "612  2024-11-06    True  ...                NaN   \n",
       "728  2024-11-26    True  ...                NaN   \n",
       "764  2024-12-04    True  ...                NaN   \n",
       "891  2024-12-04    True  ...                NaN   \n",
       "\n",
       "     formData.EventNotesEventType17  formData.metastase  formData.obs  \\\n",
       "11                              NaN                 NaN           NaN   \n",
       "377                             NaN                 NaN           NaN   \n",
       "612                             NaN                 NaN           NaN   \n",
       "728                             NaN                 NaN           NaN   \n",
       "764                             NaN                 NaN           NaN   \n",
       "891                             NaN                 NaN           NaN   \n",
       "\n",
       "    formData.diagnóstico formData.diag  formData.idDeExemplo  formData.local  \\\n",
       "11                   NaN           NaN                   NaN             NaN   \n",
       "377                  NaN           NaN                   NaN             NaN   \n",
       "612                  NaN           NaN                   NaN             NaN   \n",
       "728                  NaN           NaN                   NaN             NaN   \n",
       "764                  NaN           NaN                   NaN             NaN   \n",
       "891                  NaN           NaN                   NaN             NaN   \n",
       "\n",
       "    formData.Obs formData.motivoIda  \n",
       "11           NaN                NaN  \n",
       "377          NaN                  b  \n",
       "612          NaN                  b  \n",
       "728          NaN                  b  \n",
       "764          NaN                NaN  \n",
       "891          NaN                  b  \n",
       "\n",
       "[6 rows x 69 columns]"
      ]
     },
     "execution_count": 481,
     "metadata": {},
     "output_type": "execute_result"
    }
   ],
   "source": [
    "eventsJson_postKPI[eventsJson_postKPI[\"name\"] == \"Contato de Emergência\"]"
   ]
  },
  {
   "cell_type": "code",
   "execution_count": 482,
   "metadata": {},
   "outputs": [
    {
     "data": {
      "text/plain": [
       "(6, 2, 4, 4, 0, '0.0 %')"
      ]
     },
     "execution_count": 482,
     "metadata": {},
     "output_type": "execute_result"
    }
   ],
   "source": [
    "contatos_de_emergencia = eventsJson_postKPI[eventsJson_postKPI[\"name\"] == \"Contato de Emergência\"]\n",
    "has_idaEmergencia = eventsJson_postKPI[\"formData.idaEmergencia\"]\n",
    "\n",
    "# Justificativa A = \"Escolha do paciente\", portanto só queremos essas. Não vamos incluir as justificativas\n",
    "# b = \"Necessário conforme quadro clínico\".\n",
    "has_justificativaA = eventsJson_postKPI[\"formData.motivoIda\"] == \"a\"\n",
    "has_justificativaB = eventsJson_postKPI[\"formData.motivoIda\"] == \"b\"\n",
    "\n",
    "d = percentage_trues(has_idaEmergencia & has_justificativaA, 2)\n",
    "\n",
    "total_de_idas = sum(has_justificativaA) + sum(has_justificativaB)\n",
    "\n",
    "# Total de tentativas de Ida\n",
    "# Total de Idas\n",
    "# Total de Idas evitadas\n",
    "# Idas por prescrição\n",
    "# Idas por escolha do paciente\n",
    "\n",
    "d = (\n",
    "    len(contatos_de_emergencia),                                # Total de Contatos de Emergência\n",
    "    len(contatos_de_emergencia) - total_de_idas,                # Total de Idas evitadas\n",
    "    total_de_idas,                                              # Total de Idas\n",
    "    sum(has_justificativaB),                                    # Total de Idas por prescrição\n",
    "    sum(has_justificativaA),                                    # Total de Idas por escolha do paciente\n",
    "    d[2]\n",
    "    )\n",
    "d"
   ]
  },
  {
   "cell_type": "code",
   "execution_count": 483,
   "metadata": {},
   "outputs": [],
   "source": [
    "# Não consigo fazer a demanda E. Esperar mensageria funcional.\n",
    "e = []"
   ]
  },
  {
   "cell_type": "code",
   "execution_count": 484,
   "metadata": {},
   "outputs": [
    {
     "data": {
      "text/plain": [
       "(2, 39, '5.13 %')"
      ]
     },
     "execution_count": 484,
     "metadata": {},
     "output_type": "execute_result"
    }
   ],
   "source": [
    "# Count rows where \"has_evasao\" is True and divide by rows\n",
    "evasao_count  = searchPatientTag(patientsJson_postKPI, [\"Evasão\", \"Evasão - Plano de Saúde\"])\n",
    "f = percentage_trues(evasao_count, 2)\n",
    "f"
   ]
  },
  {
   "cell_type": "code",
   "execution_count": 485,
   "metadata": {},
   "outputs": [
    {
     "data": {
      "text/plain": [
       "((2, 39, '5.13 %'), (0, 39, '0.0 %'))"
      ]
     },
     "execution_count": 485,
     "metadata": {},
     "output_type": "execute_result"
    }
   ],
   "source": [
    "nao_navegacao_count = searchPatientTag(patientsJson_postKPI, \"Não adesão estratégias Navegação\")\n",
    "nao_tto_count = searchPatientTag(patientsJson_postKPI, \"Não adesão tto\")\n",
    "\n",
    "g_nao_navegacao = percentage_trues(nao_navegacao_count, 2)\n",
    "g_nao_tto = percentage_trues(nao_tto_count, 2)\n",
    "\n",
    "g_nao_navegacao, g_nao_tto"
   ]
  },
  {
   "cell_type": "code",
   "execution_count": 486,
   "metadata": {},
   "outputs": [
    {
     "data": {
      "text/plain": [
       "{'script_date': ['2025-01-10 10:15:02.821137'],\n",
       " 'a_postKPI': [12.5],\n",
       " 'a_postKPI_outliers': [[]],\n",
       " 'b_preKPI': [37.4],\n",
       " 'b_preKPI_outliers': [[]],\n",
       " 'b_postKPI': [30.0],\n",
       " 'b_postKPI_outliers': [[index                                                                          5\n",
       "   id                                                                            12\n",
       "   createdAt                                            2024-11-09T12:50:01.042433Z\n",
       "   updatedAt                                            2024-11-20T13:05:56.598045Z\n",
       "   fieldSpecifications            [{'id': 'biopsianao', 'label': 'Disponibilidad...\n",
       "   patient.id                                                                218510\n",
       "   patient.fullName                                           Arnaldo Buede Sleimon\n",
       "   patient.preferredName                                                    Arnaldo\n",
       "   patient.birthDate                                                     1941-08-28\n",
       "   patient.phoneNumber                                               +5551999695984\n",
       "   patient.medicalRecordId                                                  1155037\n",
       "   formTemplate.id                                                               15\n",
       "   formTemplate.name                                      Informações de Tratamento\n",
       "   formData.primeiroTratamento                                             cirurgia\n",
       "   formData.molecularnao                                                     opçãoB\n",
       "   formData.biopsianao                                                       opçãoA\n",
       "   formData.inicio                                                       2024-04-18\n",
       "   formData.decisao                                                      2024-03-19\n",
       "   formData.liberacao                                                    2024-05-03\n",
       "   formData.tipoPDL                                                             NaN\n",
       "   formData.infusao                                                             NaN\n",
       "   formData.testemolecular                                               2024-09-04\n",
       "   Name: 5, dtype: object]],\n",
       " 'c_preKPI': [135.0],\n",
       " 'c_preKPI_outliers': [[index                                                                         36\n",
       "   id                                                                            60\n",
       "   createdAt                                            2024-11-28T14:55:58.952816Z\n",
       "   updatedAt                                                                    NaN\n",
       "   fieldSpecifications            [{'id': 'biopsianao', 'label': 'Disponibilidad...\n",
       "   patient.id                                                                239084\n",
       "   patient.fullName                             Maria Alda Cabral Severino da Silva\n",
       "   patient.preferredName                                                      Maria\n",
       "   patient.birthDate                                                     1952-11-21\n",
       "   patient.phoneNumber                                                          NaN\n",
       "   patient.medicalRecordId                                                      NaN\n",
       "   formTemplate.id                                                               15\n",
       "   formTemplate.name                                      Informações de Tratamento\n",
       "   formData.primeiroTratamento                                         quimioeimuno\n",
       "   formData.molecularnao                                                     opçãoA\n",
       "   formData.biopsianao                                                       opçãoA\n",
       "   formData.inicio                                                       2021-05-07\n",
       "   formData.decisao                                                             NaN\n",
       "   formData.liberacao                                                    2021-04-30\n",
       "   formData.tipoPDL                                                             [b]\n",
       "   formData.infusao                                                      2021-05-07\n",
       "   formData.testemolecular                                               2021-05-11\n",
       "   Name: 1, dtype: object]],\n",
       " 'c_postKPI': [15.8],\n",
       " 'c_postKPI_outliers': [[index                                                                          1\n",
       "   id                                                                            10\n",
       "   createdAt                                            2024-11-09T12:23:40.136827Z\n",
       "   updatedAt                                             2024-11-20T12:58:31.50587Z\n",
       "   fieldSpecifications            [{'id': 'biopsianao', 'label': 'Disponibilidad...\n",
       "   patient.id                                                                218301\n",
       "   patient.fullName                                                Cesar Laus Simas\n",
       "   patient.preferredName                                                      Cesar\n",
       "   patient.birthDate                                                     1957-06-10\n",
       "   patient.phoneNumber                                               +5548988232121\n",
       "   patient.medicalRecordId                                                 11388868\n",
       "   formTemplate.id                                                               15\n",
       "   formTemplate.name                                      Informações de Tratamento\n",
       "   formData.primeiroTratamento                                         quimioeimuno\n",
       "   formData.molecularnao                                                     opçãoA\n",
       "   formData.biopsianao                                                       opçãoA\n",
       "   formData.inicio                                                       2023-12-29\n",
       "   formData.decisao                                                      2023-11-21\n",
       "   formData.liberacao                                                    2023-11-13\n",
       "   formData.tipoPDL                                                             [b]\n",
       "   formData.infusao                                                      2024-12-29\n",
       "   formData.testemolecular                                               2023-11-27\n",
       "   Name: 1, dtype: object]],\n",
       " 'd': [(6, 2, 4, 4, 0, '0.0 %')],\n",
       " 'e': [[]],\n",
       " 'f': [(2, 39, '5.13 %')],\n",
       " 'g_nao_navegacao': [(2, 39, '5.13 %')],\n",
       " 'g_nao_tto': [(0, 39, '0.0 %')]}"
      ]
     },
     "execution_count": 486,
     "metadata": {},
     "output_type": "execute_result"
    }
   ],
   "source": [
    "demandas = {\n",
    "    \"script_date\" : [str(datetime.today())],\n",
    "    \"a_postKPI\" : [a_postKPI],\n",
    "    \"a_postKPI_outliers\" : [a_postKPI_outliers],\n",
    "    \"b_preKPI\" : [b_preKPI],\n",
    "    \"b_preKPI_outliers\" : [b_preKPI_outliers],\n",
    "    \"b_postKPI\" : [b_postKPI],\n",
    "    \"b_postKPI_outliers\" : [b_postKPI_outliers],\n",
    "    \"c_preKPI\" : [c_preKPI],\n",
    "    \"c_preKPI_outliers\" : [c_preKPI_outliers],\n",
    "    \"c_postKPI\" : [c_postKPI],\n",
    "    \"c_postKPI_outliers\" : [c_postKPI_outliers],\n",
    "    \"d\" : [d],\n",
    "    \"e\" : [e],\n",
    "    \"f\" : [f],\n",
    "    \"g_nao_navegacao\" : [g_nao_navegacao],\n",
    "    \"g_nao_tto\" : [g_nao_tto]\n",
    "}\n",
    "\n",
    "demandas"
   ]
  },
  {
   "cell_type": "code",
   "execution_count": 487,
   "metadata": {},
   "outputs": [],
   "source": [
    "# if there's an aggregated_csv:\n",
    "# read it, then store the csvs data into it, save it, move all the csv to old_csv directory\n",
    "# if there's no aggregated_csv:\n",
    "# read all current csv, store data into aggregated_csv, move all the csv to old_csv directory"
   ]
  },
  {
   "cell_type": "code",
   "execution_count": 488,
   "metadata": {},
   "outputs": [],
   "source": [
    "# a_postKPI, a_postKPI_outliers = dateComparison(informacoes_15Json_postKPI, inicioTratamento, decisaoTratamento)\n",
    "\n",
    "# b_preKPI, b_preKPI_outliers = dateComparison(informacoes_15Json_preKPI, inicioTratamento, diagnosticoBiopsia)\n",
    "# b_postKPI, b_postKPI_outliers = dateComparison(informacoes_15Json_postKPI, inicioTratamento, diagnosticoBiopsia)\n",
    "\n",
    "# c_preKPI, c_preKPI_outliers = dateComparison(informacoes_15Json_preKPI, infusaoPDL, resultadoBiopsia)\n",
    "# c_postKPI, c_postKPI_outliers = dateComparison(informacoes_15Json_postKPI, infusaoPDL, resultadoBiopsia)"
   ]
  },
  {
   "cell_type": "code",
   "execution_count": 489,
   "metadata": {},
   "outputs": [],
   "source": [
    "def test_pacient_data(patient_name):\n",
    "    patient_line = informacoes_15Json[informacoes_15Json[\"patient.fullName\"] == patient_name]\n",
    "\n",
    "    a = pd.to_datetime(patient_line[inicioTratamento]) - pd.to_datetime(patient_line[decisaoTratamento])\n",
    "    b = pd.to_datetime(patient_line[inicioTratamento]) - pd.to_datetime(patient_line[diagnosticoBiopsia])\n",
    "    c = pd.to_datetime(patient_line[infusaoPDL]) - pd.to_datetime(patient_line[resultadoBiopsia])\n",
    "\n",
    "    print(f\"Resultados do paciente {patient_name}:\")\n",
    "    print(f\"A (Decisão e Início Tratamento): {a.dt.days}\")\n",
    "    print(f\"B (Biópsia e Início Tratamento): {b.dt.days}\")\n",
    "    print(f\"C (Infusão e Biópsia): {c.dt.days}\")"
   ]
  },
  {
   "cell_type": "code",
   "execution_count": 490,
   "metadata": {},
   "outputs": [
    {
     "name": "stdout",
     "output_type": "stream",
     "text": [
      "Resultados do paciente Regina Pereira Campello:\n",
      "A (Decisão e Início Tratamento): 46   NaN\n",
      "dtype: float64\n",
      "B (Biópsia e Início Tratamento): 46    31\n",
      "dtype: int64\n",
      "C (Infusão e Biópsia): 46    311\n",
      "dtype: int64\n"
     ]
    }
   ],
   "source": [
    "name = \"Regina Pereira Campello\"\n",
    "\n",
    "test_pacient_data(name)"
   ]
  },
  {
   "cell_type": "code",
   "execution_count": 491,
   "metadata": {},
   "outputs": [],
   "source": [
    "def save_to_historic_csv(demandas):\n",
    "    import csv\n",
    "    # Getting all the current jsons\n",
    "    current_csvs_directory = Path.cwd() / \"../input/freshCSVs/\"\n",
    "\n",
    "    current_eventsJson_location = current_csvs_directory / \"events.json\"\n",
    "    current_eventsJson_path = current_eventsJson_location.resolve()\n",
    "\n",
    "    current_informacoes15Json_location = current_csvs_directory / \"informacoes_15.json\"\n",
    "    current_informacoes15Json_path = current_informacoes15Json_location.resolve()\n",
    "\n",
    "    current_patientsJson_location = current_csvs_directory / \"patients.json\"\n",
    "    current_patientsJson_path = current_patientsJson_location.resolve()\n",
    "\n",
    "\n",
    "\n",
    "    # Now we'll get the new paths\n",
    "    old_csvs_directory = Path.cwd() / \"../output/oldCSVs/\"\n",
    "    old_eventsJson_location = old_csvs_directory / f\"{str(datetime.today()).split()[0]} events.json\"\n",
    "    old_eventsJson_path = old_eventsJson_location.resolve()\n",
    "\n",
    "    old_informacoes15Json_location = old_csvs_directory / f\"{str(datetime.today()).split()[0]} informacoes_15.json\"\n",
    "    old_informacoes15Json_path = old_informacoes15Json_location.resolve()\n",
    "\n",
    "    old_patientsJson_location = old_csvs_directory / f\"{str(datetime.today()).split()[0]} patients.json\"\n",
    "    old_patientsJson_path = old_patientsJson_location.resolve()\n",
    "\n",
    "    # Checking if old_csvs path exist\n",
    "    old_eventsJson_path.parent.mkdir(parents=True, exist_ok=True)\n",
    "    old_informacoes15Json_path.parent.mkdir(parents=True, exist_ok=True)\n",
    "    old_patientsJson_path.parent.mkdir(parents=True, exist_ok=True)\n",
    "\n",
    "\n",
    "\n",
    "    # Making sure our csv names are unique (if we run the script twice on the same day this won't be true, so we need this)\n",
    "    i = 1\n",
    "    while old_eventsJson_path.exists():\n",
    "        old_eventsJson_location = old_csvs_directory / f\"{str(datetime.today()).split()[0]}({i}) events.json\"\n",
    "        old_eventsJson_path = old_eventsJson_location.resolve()\n",
    "        old_eventsJson_path.parent.mkdir(parents=True, exist_ok=True)\n",
    "\n",
    "        i += 1\n",
    "\n",
    "    i = 1\n",
    "    while old_informacoes15Json_path.exists():\n",
    "        old_informacoes15Json_location = old_csvs_directory / f\"{str(datetime.today()).split()[0]}({i}) informacoes_15.json\"\n",
    "        old_informacoes15Json_path = old_informacoes15Json_location.resolve()\n",
    "        old_informacoes15Json_path.parent.mkdir(parents=True, exist_ok=True)\n",
    "\n",
    "        i += 1\n",
    "\n",
    "    i = 1\n",
    "    while old_patientsJson_path.exists():\n",
    "        old_patientsJson_location = old_csvs_directory / f\"{str(datetime.today()).split()[0]}({i}) patients.json\"\n",
    "        old_patientsJson_path = old_patientsJson_location.resolve()\n",
    "        old_patientsJson_path.parent.mkdir(parents=True, exist_ok=True)\n",
    "\n",
    "        i += 1\n",
    "    \n",
    "    # Moving csvs to correct \"old\" folder\n",
    "    current_patientsJson_path.rename(old_patientsJson_path)\n",
    "    current_eventsJson_path.rename(old_eventsJson_path)\n",
    "    current_informacoes15Json_path.rename(old_informacoes15Json_path)\n",
    "\n",
    "\n",
    "\n",
    "    \n",
    "    save_directory = Path.cwd() / \"../output/aggregatedCSV/aggregatedCSV.csv\"\n",
    "    save_path = save_directory.resolve()\n",
    "\n",
    "    save_path.parent.mkdir(parents=True, exist_ok=True)\n",
    "    \n",
    "    file_exists = save_path.is_file()\n",
    "\n",
    "    if file_exists:\n",
    "        print(\"aggregatedCSV.csv found. Appending to it.\")\n",
    "\n",
    "    else:\n",
    "        print(\"aggregatedCSV.csv not found. Creating new one.\")\n",
    "\n",
    "    # Open the file in append mode if it exists, write mode otherwise\n",
    "    with save_path.open('a' if file_exists else 'w', newline='') as csvfile:\n",
    "        writer = csv.DictWriter(csvfile, fieldnames=demandas.keys())\n",
    "        \n",
    "        # If the file does not exist, write the header\n",
    "        if not file_exists:\n",
    "            writer.writeheader()\n",
    "        \n",
    "        # Write the dictionary as a row\n",
    "        writer.writerow(demandas)"
   ]
  },
  {
   "cell_type": "code",
   "execution_count": 492,
   "metadata": {},
   "outputs": [
    {
     "data": {
      "text/plain": [
       "datetime.datetime(2025, 1, 10, 10, 15, 2, 973271)"
      ]
     },
     "execution_count": 492,
     "metadata": {},
     "output_type": "execute_result"
    }
   ],
   "source": [
    "datetime.today()"
   ]
  },
  {
   "cell_type": "code",
   "execution_count": 493,
   "metadata": {},
   "outputs": [
    {
     "name": "stdout",
     "output_type": "stream",
     "text": [
      "aggregatedCSV.csv found. Appending to it.\n"
     ]
    }
   ],
   "source": [
    "save_to_historic_csv(demandas)"
   ]
  },
  {
   "cell_type": "code",
   "execution_count": 3,
   "metadata": {},
   "outputs": [],
   "source": [
    "agreggated_csv = pd.read_csv(Path() / \"../output/aggregatedCSV/aggregatedCSV.csv\")"
   ]
  },
  {
   "cell_type": "code",
   "execution_count": 4,
   "metadata": {},
   "outputs": [
    {
     "data": {
      "text/html": [
       "<div>\n",
       "<style scoped>\n",
       "    .dataframe tbody tr th:only-of-type {\n",
       "        vertical-align: middle;\n",
       "    }\n",
       "\n",
       "    .dataframe tbody tr th {\n",
       "        vertical-align: top;\n",
       "    }\n",
       "\n",
       "    .dataframe thead th {\n",
       "        text-align: right;\n",
       "    }\n",
       "</style>\n",
       "<table border=\"1\" class=\"dataframe\">\n",
       "  <thead>\n",
       "    <tr style=\"text-align: right;\">\n",
       "      <th></th>\n",
       "      <th>script_date</th>\n",
       "      <th>a_postKPI</th>\n",
       "      <th>a_postKPI_outliers</th>\n",
       "      <th>b_preKPI</th>\n",
       "      <th>b_preKPI_outliers</th>\n",
       "      <th>b_postKPI</th>\n",
       "      <th>b_postKPI_outliers</th>\n",
       "      <th>c_preKPI</th>\n",
       "      <th>c_preKPI_outliers</th>\n",
       "      <th>c_postKPI</th>\n",
       "      <th>c_postKPI_outliers</th>\n",
       "      <th>d</th>\n",
       "      <th>e</th>\n",
       "      <th>f</th>\n",
       "      <th>g_nao_navegacao</th>\n",
       "      <th>g_nao_tto</th>\n",
       "    </tr>\n",
       "  </thead>\n",
       "  <tbody>\n",
       "    <tr>\n",
       "      <th>0</th>\n",
       "      <td>['2025-01-10 10:14:08.356525']</td>\n",
       "      <td>[15.4]</td>\n",
       "      <td>[[]]</td>\n",
       "      <td>[33.9]</td>\n",
       "      <td>[[]]</td>\n",
       "      <td>[37.4]</td>\n",
       "      <td>[[index                                       ...</td>\n",
       "      <td>[28.2]</td>\n",
       "      <td>[[index                                       ...</td>\n",
       "      <td>[33.6]</td>\n",
       "      <td>[[index                                       ...</td>\n",
       "      <td>[(3, 0, 3, 3, 0, '0.0 %')]</td>\n",
       "      <td>[[]]</td>\n",
       "      <td>[(1, 37, '2.7 %')]</td>\n",
       "      <td>[(3, 37, '8.11 %')]</td>\n",
       "      <td>[(0, 37, '0.0 %')]</td>\n",
       "    </tr>\n",
       "    <tr>\n",
       "      <th>1</th>\n",
       "      <td>['2025-01-10 10:15:02.821137']</td>\n",
       "      <td>[12.5]</td>\n",
       "      <td>[[]]</td>\n",
       "      <td>[37.4]</td>\n",
       "      <td>[[]]</td>\n",
       "      <td>[30.0]</td>\n",
       "      <td>[[index                                       ...</td>\n",
       "      <td>[135.0]</td>\n",
       "      <td>[[index                                       ...</td>\n",
       "      <td>[15.8]</td>\n",
       "      <td>[[index                                       ...</td>\n",
       "      <td>[(6, 2, 4, 4, 0, '0.0 %')]</td>\n",
       "      <td>[[]]</td>\n",
       "      <td>[(2, 39, '5.13 %')]</td>\n",
       "      <td>[(2, 39, '5.13 %')]</td>\n",
       "      <td>[(0, 39, '0.0 %')]</td>\n",
       "    </tr>\n",
       "  </tbody>\n",
       "</table>\n",
       "</div>"
      ],
      "text/plain": [
       "                      script_date a_postKPI a_postKPI_outliers b_preKPI  \\\n",
       "0  ['2025-01-10 10:14:08.356525']    [15.4]               [[]]   [33.9]   \n",
       "1  ['2025-01-10 10:15:02.821137']    [12.5]               [[]]   [37.4]   \n",
       "\n",
       "  b_preKPI_outliers b_postKPI  \\\n",
       "0              [[]]    [37.4]   \n",
       "1              [[]]    [30.0]   \n",
       "\n",
       "                                  b_postKPI_outliers c_preKPI  \\\n",
       "0  [[index                                       ...   [28.2]   \n",
       "1  [[index                                       ...  [135.0]   \n",
       "\n",
       "                                   c_preKPI_outliers c_postKPI  \\\n",
       "0  [[index                                       ...    [33.6]   \n",
       "1  [[index                                       ...    [15.8]   \n",
       "\n",
       "                                  c_postKPI_outliers  \\\n",
       "0  [[index                                       ...   \n",
       "1  [[index                                       ...   \n",
       "\n",
       "                            d     e                    f      g_nao_navegacao  \\\n",
       "0  [(3, 0, 3, 3, 0, '0.0 %')]  [[]]   [(1, 37, '2.7 %')]  [(3, 37, '8.11 %')]   \n",
       "1  [(6, 2, 4, 4, 0, '0.0 %')]  [[]]  [(2, 39, '5.13 %')]  [(2, 39, '5.13 %')]   \n",
       "\n",
       "            g_nao_tto  \n",
       "0  [(0, 37, '0.0 %')]  \n",
       "1  [(0, 39, '0.0 %')]  "
      ]
     },
     "execution_count": 4,
     "metadata": {},
     "output_type": "execute_result"
    }
   ],
   "source": [
    "agreggated_csv"
   ]
  },
  {
   "cell_type": "code",
   "execution_count": 28,
   "metadata": {},
   "outputs": [],
   "source": [
    "def plot_monthly_data_sns(data, months, categories, x_label=\"Value\", title=\"Monthly Data by Category\", save_path=None, width_to_add=0, height=0.8, integer=False):\n",
    "    \"\"\"\n",
    "    Plots a grouped horizontal bar chart using Seaborn and adds values to the right of each bar.\n",
    "    \n",
    "    Parameters:\n",
    "    - data (list of lists): Category A-Z values over months\n",
    "    - months (list): List of month names.\n",
    "    - categories (list): List of category names corresponding to the `data` lists.\n",
    "    - x_label (str, optional): Label for the x-axis. Default is \"Value\".\n",
    "    - title (str, optional): Title of the chart. Default is \"Monthly Data by Category\".\n",
    "    - save_path (str, optional): Path to save the graph. If None, the graph is displayed.\n",
    "    \"\"\"\n",
    "\n",
    "    # Validate inputs\n",
    "    if len(data) != len(categories):\n",
    "        raise ValueError(\"The number of data lists must match the number of categories.\")\n",
    "    if any(len(values) != len(months) for values in data):\n",
    "        raise ValueError(\"Each category's data must have the same length as the number of months.\")\n",
    "\n",
    "    # Prepare data for Seaborn\n",
    "    flat_data = []\n",
    "    for cat_idx, category_values in enumerate(data):\n",
    "        for month_idx, value in enumerate(category_values):\n",
    "            flat_data.append({\"Month\": months[month_idx], \"Category\": categories[cat_idx], \"Value\": value})\n",
    "\n",
    "    df = pd.DataFrame(flat_data)\n",
    "\n",
    "    # Plot using Seaborn\n",
    "    plt.figure(figsize=(10, len(months) * height))\n",
    "    ax = sns.barplot(\n",
    "        data=df,\n",
    "        y=\"Month\",\n",
    "        x=\"Value\",\n",
    "        hue=\"Category\",\n",
    "        edgecolor=\"black\",\n",
    "        palette=sns.color_palette(\"muted\", len(categories))\n",
    "    )\n",
    "\n",
    "    # Add labels to the bars\n",
    "    for container in ax.containers:\n",
    "        for bar in container:\n",
    "            width = bar.get_width()\n",
    "            if width >= 0:  # Only annotate non-zero bars\n",
    "                if integer == True:\n",
    "                    ax.text(\n",
    "                        width + width_to_add, bar.get_y() + bar.get_height() / 2,  # Slightly move the text to the right\n",
    "                        f\"{width:.0f}\",  # Displaying the number as an integer\n",
    "                        ha=\"left\", va=\"center\",  # Alignments\n",
    "                        fontsize=9  # Font size\n",
    "                    )\n",
    "                else:\n",
    "                    ax.text(\n",
    "                        width + width_to_add, bar.get_y() + bar.get_height() / 2,  # Slightly move the text to the right\n",
    "                        f\"{width:.1f}\",  # Displaying the number as a float\n",
    "                        ha=\"left\", va=\"center\",  # Alignments\n",
    "                        fontsize=9  # Font size\n",
    "                    )\n",
    "\n",
    "    # Add labels, title, and grid\n",
    "    plt.xlabel(x_label)\n",
    "    plt.title(title)\n",
    "    plt.grid(axis=\"x\", linestyle=\"--\", alpha=0.4)\n",
    "    plt.legend(title=\"Legenda\", loc=\"upper left\", bbox_to_anchor=(1.05, 1), borderaxespad=0)\n",
    "    plt.ylabel(\"\")  # Removes the y-axis label\n",
    "\n",
    "    # Save or show the plot\n",
    "    if save_path:\n",
    "        save_path = Path(save_path).resolve()\n",
    "        plt.savefig(save_path, bbox_inches=\"tight\")\n",
    "        print(f\"Graph saved to {save_path}\")\n",
    "    else:\n",
    "        plt.tight_layout()\n",
    "        plt.show()\n",
    "\n",
    "    # Clear the plot to avoid overlap in multiple calls\n",
    "    plt.clf()\n"
   ]
  },
  {
   "cell_type": "code",
   "execution_count": 6,
   "metadata": {},
   "outputs": [
    {
     "data": {
      "image/png": "[encoded data removed]",
      "text/plain": [
       "<Figure size 1000x240 with 1 Axes>"
      ]
     },
     "metadata": {},
     "output_type": "display_data"
    },
    {
     "data": {
      "text/plain": [
       "<Figure size 640x480 with 0 Axes>"
      ]
     },
     "metadata": {},
     "output_type": "display_data"
    }
   ],
   "source": [
    "# Input data\n",
    "data = [\n",
    "    [100, 150, 200],  # Category A values over months\n",
    "    [234, 123, 543] # Category C values over months\n",
    "]\n",
    "months = [\"January\", \"February\", \"March\"]  # List of months\n",
    "categories = [\"Category A\", \"Category B\"]  # List of categories\n",
    "\n",
    "# Call the function\n",
    "plot_monthly_data_sns(\n",
    "    data=data,\n",
    "    months=months,\n",
    "    categories=categories,\n",
    "    x_label=\"Patients\",\n",
    "    title=\"Monthly Patient Data by Category\",\n",
    "    save_path=None,  # Set to a file path if you want to save the plot\n",
    "    width_to_add=1,\n",
    "    integer=True\n",
    ")\n"
   ]
  },
  {
   "cell_type": "code",
   "execution_count": 7,
   "metadata": {},
   "outputs": [],
   "source": [
    "import ast"
   ]
  },
  {
   "cell_type": "code",
   "execution_count": 32,
   "metadata": {},
   "outputs": [
    {
     "data": {
      "image/png": "[encoded data removed]",
      "text/plain": [
       "<Figure size 1000x160 with 1 Axes>"
      ]
     },
     "metadata": {},
     "output_type": "display_data"
    },
    {
     "data": {
      "text/plain": [
       "<Figure size 640x480 with 0 Axes>"
      ]
     },
     "metadata": {},
     "output_type": "display_data"
    }
   ],
   "source": [
    "# Input data\n",
    "data = [\n",
    "    [value[0] for value in agreggated_csv[\"a_postKPI\"].apply(ast.literal_eval)],  # Category A values over months\n",
    "]\n",
    "months = [\"Dez\", \"Jan\"]  # List of months\n",
    "categories = [\"Pós KPI\"]  # List of categories\n",
    "\n",
    "# Call the function\n",
    "plot_monthly_data_sns(\n",
    "    data=data,\n",
    "    months=months,\n",
    "    categories=categories,\n",
    "    x_label=\"Dias\",\n",
    "    title=\"Tempo médio entre a decisão e o início do tratamento\",\n",
    "    save_path=None,  # Set to a file path if you want to save the plot\n",
    "    width_to_add=0.1\n",
    ")"
   ]
  },
  {
   "cell_type": "code",
   "execution_count": 33,
   "metadata": {},
   "outputs": [
    {
     "data": {
      "image/png": "[encoded data removed]",
      "text/plain": [
       "<Figure size 1000x160 with 1 Axes>"
      ]
     },
     "metadata": {},
     "output_type": "display_data"
    },
    {
     "data": {
      "text/plain": [
       "<Figure size 640x480 with 0 Axes>"
      ]
     },
     "metadata": {},
     "output_type": "display_data"
    }
   ],
   "source": [
    "# Input data\n",
    "data = [\n",
    "    [value[0] for value in agreggated_csv[\"b_preKPI\"].apply(ast.literal_eval)],  # Category A values over months\n",
    "    [value[0] for value in agreggated_csv[\"b_postKPI\"].apply(ast.literal_eval)],  # Category A values over months\n",
    "]\n",
    "months = [\"Dez\", \"Jan\"]  # List of months\n",
    "categories = [\"Pré KPI\", \"Pós KPI\"]  # List of categories\n",
    "\n",
    "# Call the function\n",
    "plot_monthly_data_sns(\n",
    "    data=data,\n",
    "    months=months,\n",
    "    categories=categories,\n",
    "    x_label=\"Dias\",\n",
    "    title=\"Tempo médio entre diagnóstico e início do tratamento\",\n",
    "    save_path=None,  # Set to a file path if you want to save the plot\n",
    "    width_to_add=0.1\n",
    ")"
   ]
  },
  {
   "cell_type": "code",
   "execution_count": 34,
   "metadata": {},
   "outputs": [
    {
     "data": {
      "image/png": "[encoded data removed]",
      "text/plain": [
       "<Figure size 1000x160 with 1 Axes>"
      ]
     },
     "metadata": {},
     "output_type": "display_data"
    },
    {
     "data": {
      "text/plain": [
       "<Figure size 640x480 with 0 Axes>"
      ]
     },
     "metadata": {},
     "output_type": "display_data"
    }
   ],
   "source": [
    "# Input data\n",
    "data = [\n",
    "    [value[0] for value in agreggated_csv[\"c_preKPI\"].apply(ast.literal_eval)],  # Category A values over months\n",
    "    [value[0] for value in agreggated_csv[\"c_postKPI\"].apply(ast.literal_eval)],  # Category A values over months\n",
    "]\n",
    "months = [\"Dez\", \"Jan\"]  # List of months\n",
    "categories = [\"Pré KPI\", \"Pós KPI\"]  # List of categories\n",
    "\n",
    "# Call the function\n",
    "plot_monthly_data_sns(\n",
    "    data=data,\n",
    "    months=months,\n",
    "    categories=categories,\n",
    "    x_label=\"Dias\",\n",
    "    title=\"Tempo médio entre o resultado da biópsia e a infusão do PDL1\",\n",
    "    save_path=None,  # Set to a file path if you want to save the plot teste\n",
    "    width_to_add=0.1\n",
    ")"
   ]
  },
  {
   "cell_type": "code",
   "execution_count": 35,
   "metadata": {},
   "outputs": [
    {
     "data": {
      "image/png": "[encoded data removed]",
      "text/plain": [
       "<Figure size 1000x400 with 1 Axes>"
      ]
     },
     "metadata": {},
     "output_type": "display_data"
    },
    {
     "data": {
      "text/plain": [
       "<Figure size 640x480 with 0 Axes>"
      ]
     },
     "metadata": {},
     "output_type": "display_data"
    }
   ],
   "source": [
    "# Total de Contatos de emergência\n",
    "# Total de Idas\n",
    "# Total de Idas evitadas\n",
    "# Idas por prescrição\n",
    "# Idas por escolha do paciente\n",
    "\n",
    "# Input data\n",
    "data = [\n",
    "    [value[0][0] for value in agreggated_csv[\"d\"].apply(ast.literal_eval)],  # Category A values over months\n",
    "    [value[0][2] for value in agreggated_csv[\"d\"].apply(ast.literal_eval)],\n",
    "    [value[0][1] for value in agreggated_csv[\"d\"].apply(ast.literal_eval)],\n",
    "    [value[0][3] for value in agreggated_csv[\"d\"].apply(ast.literal_eval)],\n",
    "    [value[0][4] for value in agreggated_csv[\"d\"].apply(ast.literal_eval)]\n",
    "]\n",
    "months = [\"Dez\", \"Jan\"]  # List of months\n",
    "categories = [\n",
    "    \"Contatos de emergência\", \n",
    "    \"Total de Idas\",\n",
    "    \"Total de Idas evitadas\",\n",
    "    \"Idas por prescrição\",\n",
    "    \"Idas por escolha do paciente\"\n",
    "    ]  # List of categories\n",
    "    \n",
    "# Call the function\n",
    "plot_monthly_data_sns(\n",
    "    data=data,\n",
    "    months=months,\n",
    "    categories=categories,\n",
    "    x_label=\"Pacientes\",\n",
    "    title=\"Idas à emergência evitadas\",\n",
    "    save_path=None,  # Set to a file path if you want to save the plot\n",
    "    width_to_add=0.05,\n",
    "    height=2,\n",
    "    integer=True\n",
    ")\n",
    "# Botar os zeros nas barras que não tem valor"
   ]
  },
  {
   "cell_type": "code",
   "execution_count": 40,
   "metadata": {},
   "outputs": [
    {
     "data": {
      "image/png": "[encoded data removed]",
      "text/plain": [
       "<Figure size 1000x160 with 1 Axes>"
      ]
     },
     "metadata": {},
     "output_type": "display_data"
    },
    {
     "data": {
      "text/plain": [
       "<Figure size 640x480 with 0 Axes>"
      ]
     },
     "metadata": {},
     "output_type": "display_data"
    }
   ],
   "source": [
    "# Total de Contatos de emergência\n",
    "# Total de Idas\n",
    "# Total de Idas evitadas\n",
    "# Idas por prescrição\n",
    "# Idas por escolha do paciente\n",
    "\n",
    "# Input data\n",
    "data = [\n",
    "    [value[0][1] for value in agreggated_csv[\"f\"].apply(ast.literal_eval)],  # Category A values over months\n",
    "    [value[0][0] for value in agreggated_csv[\"f\"].apply(ast.literal_eval)]\n",
    "]\n",
    "months = [\"Dez\", \"Jan\"]  # List of months\n",
    "categories = [\n",
    "    \"Total de Pacientes\", \n",
    "    \"Evasão\"\n",
    "    ]  # List of categories\n",
    "\n",
    "# Call the function\n",
    "plot_monthly_data_sns(\n",
    "    data=data,\n",
    "    months=months,\n",
    "    categories=categories,\n",
    "    x_label=\"Pacientes\",\n",
    "    title=\"Evasão de pacientes inseridos no programa de navegação\",\n",
    "    save_path=None,  # Set to a file path if you want to save the plot\n",
    "    width_to_add=0.1,\n",
    "    integer=True\n",
    ")"
   ]
  },
  {
   "cell_type": "code",
   "execution_count": 37,
   "metadata": {},
   "outputs": [
    {
     "data": {
      "image/png": "[encoded data removed]",
      "text/plain": [
       "<Figure size 1000x160 with 1 Axes>"
      ]
     },
     "metadata": {},
     "output_type": "display_data"
    },
    {
     "data": {
      "text/plain": [
       "<Figure size 640x480 with 0 Axes>"
      ]
     },
     "metadata": {},
     "output_type": "display_data"
    }
   ],
   "source": [
    "# Total de Contatos de emergência\n",
    "# Total de Idas\n",
    "# Total de Idas evitadas\n",
    "# Idas por prescrição\n",
    "# Idas por escolha do paciente\n",
    "\n",
    "# Input data\n",
    "data = [\n",
    "    [value[0][1] for value in agreggated_csv[\"g_nao_navegacao\"].apply(ast.literal_eval)],  # Category A values over months\n",
    "    [value[0][0] for value in agreggated_csv[\"g_nao_navegacao\"].apply(ast.literal_eval)]\n",
    "]\n",
    "months = [\"Dez\", \"Jan\"]  # List of months\n",
    "categories = [\n",
    "    \"Total de Pacientes\", \n",
    "    \"Pacientes sem adesão Navegação\"\n",
    "    ]  # List of categories\n",
    "\n",
    "# Call the function\n",
    "plot_monthly_data_sns(\n",
    "    data=data,\n",
    "    months=months,\n",
    "    categories=categories,\n",
    "    x_label=\"Pacientes\",\n",
    "    title=\"Pacientes engajados: sem adesão navegação\",\n",
    "    save_path=None,  # Set to a file path if you want to save the plot\n",
    "    width_to_add=0.1,\n",
    "    integer=True\n",
    ")"
   ]
  },
  {
   "cell_type": "code",
   "execution_count": 39,
   "metadata": {},
   "outputs": [
    {
     "data": {
      "image/png": "[encoded data removed]",
      "text/plain": [
       "<Figure size 1000x160 with 1 Axes>"
      ]
     },
     "metadata": {},
     "output_type": "display_data"
    },
    {
     "data": {
      "text/plain": [
       "<Figure size 640x480 with 0 Axes>"
      ]
     },
     "metadata": {},
     "output_type": "display_data"
    }
   ],
   "source": [
    "# Total de Contatos de emergência\n",
    "# Total de Idas\n",
    "# Total de Idas evitadas\n",
    "# Idas por prescrição\n",
    "# Idas por escolha do paciente\n",
    "\n",
    "# Input data\n",
    "data = [\n",
    "    [value[0][1] for value in agreggated_csv[\"g_nao_tto\"].apply(ast.literal_eval)],  # Category A values over months\n",
    "    [value[0][0] for value in agreggated_csv[\"g_nao_tto\"].apply(ast.literal_eval)]\n",
    "]\n",
    "months = [\"Dez\", \"Jan\"]  # List of months\n",
    "categories = [\n",
    "    \"Total de Pacientes\", \n",
    "    \"Pacientes sem adesão Tratamento\"\n",
    "    ]  # List of categories\n",
    "\n",
    "# Call the function\n",
    "plot_monthly_data_sns(\n",
    "    data=data,\n",
    "    months=months,\n",
    "    categories=categories,\n",
    "    x_label=\"Pacientes\",\n",
    "    title=\"Pacientes engajados: sem adesão Tratamento\",\n",
    "    save_path=None,  # Set to a file path if you want to save the plot\n",
    "    width_to_add=0.1,\n",
    "    integer=True\n",
    ")"
   ]
  }
 ],
 "metadata": {
  "kernelspec": {
   "display_name": "dsenv",
   "language": "python",
   "name": "python3"
  },
  "language_info": {
   "codemirror_mode": {
    "name": "ipython",
    "version": 3
   },
   "file_extension": ".py",
   "mimetype": "text/x-python",
   "name": "python",
   "nbconvert_exporter": "python",
   "pygments_lexer": "ipython3",
   "version": "3.8.20"
  }
 },
 "nbformat": 4,
 "nbformat_minor": 2
}
